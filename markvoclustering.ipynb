{
  "nbformat": 4,
  "nbformat_minor": 0,
  "metadata": {
    "colab": {
      "name": "markvoclustering.ipynb",
      "provenance": [],
      "authorship_tag": "ABX9TyPkg/wcpGMrETHiZG/Awfdw",
      "include_colab_link": true
    },
    "kernelspec": {
      "name": "python3",
      "display_name": "Python 3"
    },
    "language_info": {
      "name": "python"
    }
  },
  "cells": [
    {
      "cell_type": "markdown",
      "metadata": {
        "id": "view-in-github",
        "colab_type": "text"
      },
      "source": [
        "<a href=\"https://colab.research.google.com/github/Mhsm2012/car_prediction_ML/blob/main/markvoclustering.ipynb\" target=\"_parent\"><img src=\"https://colab.research.google.com/assets/colab-badge.svg\" alt=\"Open In Colab\"/></a>"
      ]
    },
    {
      "cell_type": "code",
      "execution_count": 12,
      "metadata": {
        "id": "xFeczvN--u7l"
      },
      "outputs": [],
      "source": [
        "import numpy as np"
      ]
    },
    {
      "cell_type": "code",
      "source": [
        "MG = np.matrix([[0,1,1,0,0,0],[1,0,\t1\t,0,\t0\t,0],[1,\t1\t,0,\t1\t,0,\t0],[0\t,0\t,1\t,0\t,1,\t1],[0\t,0,\t0\t,1,\t0\t,1],[0,\t0\t,0,\t1,\t1\t,0]])"
      ],
      "metadata": {
        "id": "uo-IFBR5CvGL"
      },
      "execution_count": 15,
      "outputs": []
    },
    {
      "cell_type": "code",
      "source": [
        "MG"
      ],
      "metadata": {
        "colab": {
          "base_uri": "https://localhost:8080/"
        },
        "id": "KIDz9sYeDZ6y",
        "outputId": "c6bcb350-9014-452b-b401-b636051fb3e6"
      },
      "execution_count": 16,
      "outputs": [
        {
          "output_type": "execute_result",
          "data": {
            "text/plain": [
              "matrix([[0, 1, 1, 0, 0, 0],\n",
              "        [1, 0, 1, 0, 0, 0],\n",
              "        [1, 1, 0, 1, 0, 0],\n",
              "        [0, 0, 1, 0, 1, 1],\n",
              "        [0, 0, 0, 1, 0, 1],\n",
              "        [0, 0, 0, 1, 1, 0]])"
            ]
          },
          "metadata": {},
          "execution_count": 16
        }
      ]
    },
    {
      "cell_type": "code",
      "source": [
        "M2g =np.dot(MG,MG)"
      ],
      "metadata": {
        "id": "hLrgZiIsD4-p"
      },
      "execution_count": 17,
      "outputs": []
    },
    {
      "cell_type": "code",
      "source": [
        "M2g"
      ],
      "metadata": {
        "id": "up0x4eNaEBwg",
        "outputId": "31fdffa8-dc29-4574-faad-e2dbfbb56b7f",
        "colab": {
          "base_uri": "https://localhost:8080/"
        }
      },
      "execution_count": 18,
      "outputs": [
        {
          "output_type": "execute_result",
          "data": {
            "text/plain": [
              "matrix([[2, 1, 1, 1, 0, 0],\n",
              "        [1, 2, 1, 1, 0, 0],\n",
              "        [1, 1, 3, 0, 1, 1],\n",
              "        [1, 1, 0, 3, 1, 1],\n",
              "        [0, 0, 1, 1, 2, 1],\n",
              "        [0, 0, 1, 1, 1, 2]])"
            ]
          },
          "metadata": {},
          "execution_count": 18
        }
      ]
    },
    {
      "cell_type": "code",
      "source": [
        "identity_mat = np.identity(6)"
      ],
      "metadata": {
        "id": "KvH5IKEdEDgh"
      },
      "execution_count": 19,
      "outputs": []
    },
    {
      "cell_type": "code",
      "source": [
        "identity_mat"
      ],
      "metadata": {
        "id": "rITTapfgES-a",
        "outputId": "bd6fde3e-2157-4123-bdc4-2e9042820199",
        "colab": {
          "base_uri": "https://localhost:8080/"
        }
      },
      "execution_count": 20,
      "outputs": [
        {
          "output_type": "execute_result",
          "data": {
            "text/plain": [
              "array([[1., 0., 0., 0., 0., 0.],\n",
              "       [0., 1., 0., 0., 0., 0.],\n",
              "       [0., 0., 1., 0., 0., 0.],\n",
              "       [0., 0., 0., 1., 0., 0.],\n",
              "       [0., 0., 0., 0., 1., 0.],\n",
              "       [0., 0., 0., 0., 0., 1.]])"
            ]
          },
          "metadata": {},
          "execution_count": 20
        }
      ]
    },
    {
      "cell_type": "code",
      "source": [
        "mat_addition = np.add(MG,identity_mat)"
      ],
      "metadata": {
        "id": "bO02PrIREVSz"
      },
      "execution_count": 21,
      "outputs": []
    },
    {
      "cell_type": "code",
      "source": [
        "mat_addition"
      ],
      "metadata": {
        "id": "W1YZ_aetEk1B",
        "outputId": "4bf5856f-61e4-41ac-8980-a0a190edc7aa",
        "colab": {
          "base_uri": "https://localhost:8080/"
        }
      },
      "execution_count": 22,
      "outputs": [
        {
          "output_type": "execute_result",
          "data": {
            "text/plain": [
              "matrix([[1., 1., 1., 0., 0., 0.],\n",
              "        [1., 1., 1., 0., 0., 0.],\n",
              "        [1., 1., 1., 1., 0., 0.],\n",
              "        [0., 0., 1., 1., 1., 1.],\n",
              "        [0., 0., 0., 1., 1., 1.],\n",
              "        [0., 0., 0., 1., 1., 1.]])"
            ]
          },
          "metadata": {},
          "execution_count": 22
        }
      ]
    },
    {
      "cell_type": "code",
      "source": [
        "MG2 = np.dot(mat_addition,mat_addition)"
      ],
      "metadata": {
        "id": "XMrMGNMJEmbU"
      },
      "execution_count": 24,
      "outputs": []
    },
    {
      "cell_type": "code",
      "source": [
        "MG2"
      ],
      "metadata": {
        "id": "8FEO2AnfGZMA",
        "outputId": "ed5f340b-e70f-45c2-cacc-02edf41947f6",
        "colab": {
          "base_uri": "https://localhost:8080/"
        }
      },
      "execution_count": 25,
      "outputs": [
        {
          "output_type": "execute_result",
          "data": {
            "text/plain": [
              "matrix([[3., 3., 3., 1., 0., 0.],\n",
              "        [3., 3., 3., 1., 0., 0.],\n",
              "        [3., 3., 4., 2., 1., 1.],\n",
              "        [1., 1., 2., 4., 3., 3.],\n",
              "        [0., 0., 1., 3., 3., 3.],\n",
              "        [0., 0., 1., 3., 3., 3.]])"
            ]
          },
          "metadata": {},
          "execution_count": 25
        }
      ]
    },
    {
      "cell_type": "code",
      "source": [
        "MG"
      ],
      "metadata": {
        "id": "_wTxzhdZGeuk",
        "outputId": "06934b43-df21-4271-e9db-3ba383d284cd",
        "colab": {
          "base_uri": "https://localhost:8080/"
        }
      },
      "execution_count": 26,
      "outputs": [
        {
          "output_type": "execute_result",
          "data": {
            "text/plain": [
              "matrix([[0, 1, 1, 0, 0, 0],\n",
              "        [1, 0, 1, 0, 0, 0],\n",
              "        [1, 1, 0, 1, 0, 0],\n",
              "        [0, 0, 1, 0, 1, 1],\n",
              "        [0, 0, 0, 1, 0, 1],\n",
              "        [0, 0, 0, 1, 1, 0]])"
            ]
          },
          "metadata": {},
          "execution_count": 26
        }
      ]
    },
    {
      "cell_type": "code",
      "source": [
        "MG_trans = MG/MG.sum(axis=0)"
      ],
      "metadata": {
        "id": "un3iw6OHGubi"
      },
      "execution_count": 27,
      "outputs": []
    },
    {
      "cell_type": "code",
      "source": [
        "MG_trans"
      ],
      "metadata": {
        "id": "xjnsFaFaHPAN",
        "outputId": "1b1f6d40-b21c-4e9e-85ed-0f8d3d0aeca4",
        "colab": {
          "base_uri": "https://localhost:8080/"
        }
      },
      "execution_count": 28,
      "outputs": [
        {
          "output_type": "execute_result",
          "data": {
            "text/plain": [
              "matrix([[0.        , 0.5       , 0.33333333, 0.        , 0.        ,\n",
              "         0.        ],\n",
              "        [0.5       , 0.        , 0.33333333, 0.        , 0.        ,\n",
              "         0.        ],\n",
              "        [0.5       , 0.5       , 0.        , 0.33333333, 0.        ,\n",
              "         0.        ],\n",
              "        [0.        , 0.        , 0.33333333, 0.        , 0.5       ,\n",
              "         0.5       ],\n",
              "        [0.        , 0.        , 0.        , 0.33333333, 0.        ,\n",
              "         0.5       ],\n",
              "        [0.        , 0.        , 0.        , 0.33333333, 0.5       ,\n",
              "         0.        ]])"
            ]
          },
          "metadata": {},
          "execution_count": 28
        }
      ]
    },
    {
      "cell_type": "code",
      "source": [
        "mg_t2=mat_addition/mat_addition.sum(axis=0)"
      ],
      "metadata": {
        "id": "L0dAQmwwHQ2V"
      },
      "execution_count": 29,
      "outputs": []
    },
    {
      "cell_type": "code",
      "source": [
        "mg_t2"
      ],
      "metadata": {
        "id": "W-S_yS3qJkib",
        "outputId": "d827404a-c451-44f5-be48-2df4a97d1657",
        "colab": {
          "base_uri": "https://localhost:8080/"
        }
      },
      "execution_count": 30,
      "outputs": [
        {
          "output_type": "execute_result",
          "data": {
            "text/plain": [
              "matrix([[0.33333333, 0.33333333, 0.25      , 0.        , 0.        ,\n",
              "         0.        ],\n",
              "        [0.33333333, 0.33333333, 0.25      , 0.        , 0.        ,\n",
              "         0.        ],\n",
              "        [0.33333333, 0.33333333, 0.25      , 0.25      , 0.        ,\n",
              "         0.        ],\n",
              "        [0.        , 0.        , 0.25      , 0.25      , 0.33333333,\n",
              "         0.33333333],\n",
              "        [0.        , 0.        , 0.        , 0.25      , 0.33333333,\n",
              "         0.33333333],\n",
              "        [0.        , 0.        , 0.        , 0.25      , 0.33333333,\n",
              "         0.33333333]])"
            ]
          },
          "metadata": {},
          "execution_count": 30
        }
      ]
    },
    {
      "cell_type": "code",
      "source": [
        "aft_55 = np.linalg.matrix_power(mat_addition,2)"
      ],
      "metadata": {
        "id": "YqON7whyJoeX"
      },
      "execution_count": 37,
      "outputs": []
    },
    {
      "cell_type": "code",
      "source": [
        "aft_55"
      ],
      "metadata": {
        "id": "bMCcIUIPKclC",
        "outputId": "e7e23f1c-1299-45db-d1fd-26dde3bc344b",
        "colab": {
          "base_uri": "https://localhost:8080/"
        }
      },
      "execution_count": 38,
      "outputs": [
        {
          "output_type": "execute_result",
          "data": {
            "text/plain": [
              "matrix([[3., 3., 3., 1., 0., 0.],\n",
              "        [3., 3., 3., 1., 0., 0.],\n",
              "        [3., 3., 4., 2., 1., 1.],\n",
              "        [1., 1., 2., 4., 3., 3.],\n",
              "        [0., 0., 1., 3., 3., 3.],\n",
              "        [0., 0., 1., 3., 3., 3.]])"
            ]
          },
          "metadata": {},
          "execution_count": 38
        }
      ]
    },
    {
      "cell_type": "code",
      "source": [
        ""
      ],
      "metadata": {
        "id": "QqEXnqLTKoxc"
      },
      "execution_count": null,
      "outputs": []
    }
  ]
}